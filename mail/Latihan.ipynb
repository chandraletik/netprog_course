{
 "cells": [
  {
   "cell_type": "code",
   "execution_count": null,
   "metadata": {},
   "outputs": [],
   "source": [
    import argparse
    import getpass
    import imaplib
    import poplib
    import smtplib
   ]
  },
  {
   "cell_type": "code",
   "execution_count": null,
   "metadata": {},
   "outputs": [],
   "source": [
    "def imap_mail(username):\n",
         try:
            mailbox = imaplib.IMAP4_SSL(IMAP_SERVER, IMAP_PORT) 
            password = getpass.getpass(prompt='Enter your email password: ') 
            mailbox.login(username, password)
            mailbox.select('Inbox')
            typ, data = mailbox.search(None, 'ALL')
            for num in data[0].split():
                typ, data = mailbox.fetch(num, '(RFC822)')
                print ('Message %s\n%s\n' % (num, data[0][1]))
                break
            mailbox.close()
            mailbox.logout()
       except :
        print('credential failed')
    "    \n",
    "def pop_mail(username):\n",
          try :
              mailbox = poplib.POP3_SSL(POP_SERVER, POP_PORT) 
              mailbox.user(username)
              password = getpass.getpass(prompt='Enter your email password: ') 
              mailbox.pass_(password) 
              num_messages = len(mailbox.list()[1])
              print ('Total emails: {}'.format(num_messages))
              mailbox.quit()
         except :
          print('credential failed')
   ]
  },
  {
   "cell_type": "markdown",
   "metadata": {},
   "source": [
    "Buatlah sebuah fungsi yang dapat menggabungkan fungsionalitas fungsi `imap_mail()` dan `pop_mail()`"
   ]
  },
  {
   "cell_type": "code",
   "execution_count": null,
   "metadata": {},
   "outputs": [],
   "source": [
    "def mail(username, protocol, host, port):\n",
         data = [username, protocol, host, port]
         if(protocol ==1):
             imap_mail(data)
         elif(protocol == 2):
              pop_mail(data)
   ]
  },
  {
   "cell_type": "markdown",
   "metadata": {},
   "source": [
    "Panggil fungsi `mail()` di bawah ini:"
    username = input('enter your outlook email : ')
    try :
        print('1. IMAP')
        print('2. POP')
    protocol = int(input('Enter the number of your option : '))
    except :
        print('Option not available')
    host = 'outlook.office365.com'
    if(protocol == 1):
        port = '993'
    elif(protocol == 2):
        port = '995'
    mail(username, protocol, host, port)
   ]
  },
  {
   "cell_type": "code",
   "execution_count": null,
   "metadata": {},
   "outputs": [],
   "source": []
  }
 ],
 "metadata": {
  "kernelspec": {
   "display_name": "Python 3",
   "language": "python",
   "name": "python3"
  },
  "language_info": {
   "codemirror_mode": {
    "name": "ipython",
    "version": 3
   },
   "file_extension": ".py",
   "mimetype": "text/x-python",
   "name": "python",
   "nbconvert_exporter": "python",
   "pygments_lexer": "ipython3",
   "version": "3.6.9"
  }
 },
 "nbformat": 4,
 "nbformat_minor": 4
}
