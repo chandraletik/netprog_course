{
 "cells": [
  {
   "cell_type": "code",
   "execution_count": null,
   "metadata": {},
   "outputs": [],
   "source": [
    "import getpass\n",
    "import imaplib\n",
    "import poplib\n"
   ]
  },
  {
   "cell_type": "code",
   "execution_count": null,
   "metadata": {},
   "outputs": [],
   "source": [
    "def imap_mail(username):\n",
    "    try:\n",
    "        IMAP_SERVER = username[2]\n",
    "        IMAP_PORT = username[3]\n",
    "        mailbox = imaplib.IMAP4_SSL(IMAP_SERVER, IMAP_PORT)\n",
    "        password = getpass.getpass(prompt='enter your email password : ')\n",
    "        mailbox.login(username[0], password)\n",
    "        mailbox.select('inbox')\n",
    "        typ, data = mailbox.search(None, 'ALL')\n",
    "        for num in data[0].split():\n",
    "            typ, data = mailbox.fetch(num, '(RFC822)')\n",
    "            print ('massage %\\n%\\n' % (num, data[0][1]))\n",
    "            break\n",
    "        mailbox.close()\n",
    "        mailbox.logout()\n",
    "    except:\n",
    "        print('credential failed')\n",
    "    \n",
    "def pop_mail(username):\n",
    "    try:\n",
    "        POP_SERVER = username[2]\n",
    "        POP_PORT = username[3]\n",
    "        mailbox = poplib.POP3_SSL(POP_SERVER, POP_PORT)\n",
    "        mailbox.user(username[0])\n",
    "        password = getpass.getpass(prompt='enter your password: ')\n",
    "        mailbox.pass_(password)\n",
    "        num_messages = len(mailbox.list()[1])\n",
    "        print ('total emails: {}'.format(num_messages))\n",
    "        mailbox.quit()\n",
    "    except:\n",
    "        print ('credential failed')"
   ]
  },
  {
   "cell_type": "markdown",
   "metadata": {},
   "source": [
    "Buatlah sebuah fungsi yang dapat menggabungkan fungsionalitas fungsi `imap_mail()` dan `pop_mail()`"
   ]
  },
  {
   "cell_type": "code",
   "execution_count": null,
   "metadata": {},
   "outputs": [],
   "source": [
    "def mail(username, protocol, host, port):\n",
    "    data = [username, protocol, host, port]\n",
    "    if(protocol == 1):\n",
    "        port = '993'\n",
    "    elif(protocol == 2):\n",
    "        port = '995'\n",
    "    mail(username, protocol, host, port)"
   ]
  },
  {
   "cell_type": "markdown",
   "metadata": {},
   "source": [
    "Panggil fungsi `mail()` di bawah ini:"
   ]
  },
  {
   "cell_type": "code",
   "execution_count": 1,
   "metadata": {},
   "outputs": [
    {
     "output_type": "error",
     "ename": "SyntaxError",
     "evalue": "unexpected EOF while parsing (<ipython-input-1-70e49e9b4251>, line 11)",
     "traceback": [
      "\u001b[1;36m  File \u001b[1;32m\"<ipython-input-1-70e49e9b4251>\"\u001b[1;36m, line \u001b[1;32m11\u001b[0m\n\u001b[1;33m    elif(protocol == 2):\u001b[0m\n\u001b[1;37m                        ^\u001b[0m\n\u001b[1;31mSyntaxError\u001b[0m\u001b[1;31m:\u001b[0m unexpected EOF while parsing\n"
     ]
    }
   ],
   "source": [
    "username = input('enter your email: ')\n",
    "try:\n",
    "    print('1. IMAP')\n",
    "    print('2. POP')\n",
    "    protocol = int(input('enter the number of your opinion : '))\n",
    "except:\n",
    "    print('option not available')\n",
    "host = 'outlook.office365.com'\n",
    "if(protocol == 1):\n",
    "    port = '993'\n",
    "elif(protocol == 2):\n",
    "    port = '995'\n",
    "mail(username, protocol, host, port)"
   ]
  },
  {
   "cell_type": "code",
   "execution_count": null,
   "metadata": {},
   "outputs": [],
   "source": []
  }
 ],
 "metadata": {
  "kernelspec": {
   "display_name": "Python 3",
   "language": "python",
   "name": "python3"
  },
  "language_info": {
   "codemirror_mode": {
    "name": "ipython",
    "version": 3
   },
   "file_extension": ".py",
   "mimetype": "text/x-python",
   "name": "python",
   "nbconvert_exporter": "python",
   "pygments_lexer": "ipython3",
   "version": "3.8.2-final"
  }
 },
 "nbformat": 4,
 "nbformat_minor": 4
}